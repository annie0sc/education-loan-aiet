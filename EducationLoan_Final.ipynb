{
  "nbformat": 4,
  "nbformat_minor": 0,
  "metadata": {
    "colab": {
      "name": "EducationLoan_Final.ipynb",
      "version": "0.3.2",
      "provenance": []
    },
    "kernelspec": {
      "name": "python3",
      "display_name": "Python 3"
    }
  },
  "cells": [
    {
      "cell_type": "code",
      "metadata": {
        "id": "vDu59w3O-M0O",
        "colab_type": "code",
        "colab": {
          "base_uri": "https://localhost:8080/",
          "height": 71
        },
        "outputId": "04928796-4bdd-4ebf-e297-c76d011b7e31"
      },
      "source": [
        "#-----------------------------------------------------------Importing libraries----------------------------------------------------------------\n",
        "\n",
        "import numpy as np\n",
        "import pandas as pd\n",
        "from sklearn.preprocessing import Imputer \n",
        "from sklearn.preprocessing import LabelEncoder \n",
        "\n",
        "#-----------------------------------------Preprocessing of raw training data-------------------------------------------------------------------\n",
        "\n",
        "# Inputting csv file and replace missing data with blank space\n",
        "df= pd.read_csv('trainData.csv')\n",
        "df=df.replace('unknown', '')\n",
        "\n",
        "# Separating features and class labels from training data\n",
        "X_train=df.iloc[:,:-1].values\n",
        "y_train=df.iloc[:,19].values\n",
        "\n",
        "# Label Encoding of all the Categorical features in training data \n",
        "\n",
        "label_X = LabelEncoder()\n",
        "\n",
        "for i in range (1,10):\n",
        "  X_train[:,i] = label_X.fit_transform(X_train[:,i])\n",
        "X_train[:,13] = label_X.fit_transform(X_train[:,13])\n",
        "\n",
        "\n",
        "# Repalcing NaN values, if required,in features of training data, with the mean of column\n",
        "imputer = Imputer(missing_values=0, strategy= 'mean',axis=0)\n",
        "X_train[:,1:7]=imputer.fit_transform(X_train[:,1:7]) "
      ],
      "execution_count": 1,
      "outputs": [
        {
          "output_type": "stream",
          "text": [
            "/usr/local/lib/python3.6/dist-packages/sklearn/utils/deprecation.py:66: DeprecationWarning: Class Imputer is deprecated; Imputer was deprecated in version 0.20 and will be removed in 0.22. Import impute.SimpleImputer from sklearn instead.\n",
            "  warnings.warn(msg, category=DeprecationWarning)\n"
          ],
          "name": "stderr"
        }
      ]
    },
    {
      "cell_type": "code",
      "metadata": {
        "id": "qb9slEFo-RCm",
        "colab_type": "code",
        "colab": {
          "base_uri": "https://localhost:8080/",
          "height": 71
        },
        "outputId": "3c1be907-f411-4de0-dd4a-0bf8722fba85"
      },
      "source": [
        "#-----------------------------------------Preprocessing of raw Test data---------------------------------------------------------------------\n",
        "\n",
        "# Inputting csv file and replace missing data\n",
        "df2 = pd.read_csv('testData.csv')\n",
        "df2=df2.replace('unknown', '')\n",
        "\n",
        "# Separating features and class labels from test data\n",
        "X_test=df2.iloc[:,:-1].values\n",
        "y_test=df2.iloc[:,19].values\n",
        "\n",
        "# Label Encoding of all the non-numeric features in test data \n",
        "\n",
        "label_X1 = LabelEncoder()\n",
        "\n",
        "for i in range (1,10):\n",
        "  X_test[:,i] = label_X1.fit_transform(X_test[:,i])\n",
        "X_test[:,13] = label_X1.fit_transform(X_test[:,13])\n",
        "\n",
        "# Repalcing NaN values, in features of test data, with the mean of column\n",
        "imputer = Imputer(missing_values=0, strategy= 'mean',axis=0)\n",
        "X_test[:,1:7]=imputer.fit_transform(X_test[:,1:7]) "
      ],
      "execution_count": 2,
      "outputs": [
        {
          "output_type": "stream",
          "text": [
            "/usr/local/lib/python3.6/dist-packages/sklearn/utils/deprecation.py:66: DeprecationWarning: Class Imputer is deprecated; Imputer was deprecated in version 0.20 and will be removed in 0.22. Import impute.SimpleImputer from sklearn instead.\n",
            "  warnings.warn(msg, category=DeprecationWarning)\n"
          ],
          "name": "stderr"
        }
      ]
    },
    {
      "cell_type": "code",
      "metadata": {
        "id": "0ntt58y_-Vqv",
        "colab_type": "code",
        "colab": {
          "base_uri": "https://localhost:8080/",
          "height": 102
        },
        "outputId": "77b3c8bc-cf7f-40da-82b7-29e4c4c040a6"
      },
      "source": [
        "#---------------------------------XGBoost Classifier implemenation--------------------------------------------------------------------------\n",
        "#importing libraries \n",
        "from xgboost import XGBClassifier\n",
        "import xgboost as xgb\n",
        "\n",
        "#Storing train and test data into the Dmatrix of XGboost \n",
        "dtrain=xgb.DMatrix(X_train, label=y_train)\n",
        "dtest=xgb.DMatrix(X_test)\n",
        "\n",
        "# Calculation of ratio of class with label 0 and class with label 1\n",
        "train_labels= dtrain.get_label()\n",
        "ratio= float(np.sum(train_labels==0))/np.sum(train_labels==1)\n",
        "\n",
        "#Setting Parameters of XGBClassifer after cross validation \n",
        "classifier= XGBClassifier(\n",
        " learning_rate =0.0005,\n",
        " n_estimators=4500,\n",
        " max_depth=20,\n",
        " min_child_weight=20,\n",
        " max_delta_step=7,\n",
        " gamma=0.4,\n",
        " subsample=0.8,\n",
        " colsample_bytree=0.75,\n",
        " reg_alpha=0.01,\n",
        " reg_lambda=2,\n",
        " objective= 'binary:logistic',\n",
        " nthread=4,\n",
        " base_score=0.5,\n",
        " scale_pos_weight=ratio,\n",
        " seed=5000)\n",
        "\n",
        "# Fitting the train data to XGBoost classifier \n",
        "classifier.fit(X_train, y_train)\n",
        "y_pred = classifier.predict(X_test)\n",
        "\n",
        "# Confusion Matrix\n",
        "from sklearn.metrics import confusion_matrix \n",
        "cm=confusion_matrix(y_test, y_pred)        \n",
        "print('Confusion Matrix: ')               \n",
        "print (cm)\n",
        "\n",
        "#AUC calculation\n",
        "from sklearn.metrics import roc_auc_score\n",
        "AUC=roc_auc_score(y_test, y_pred)\n",
        "print('Area under the ROC: ')\n",
        "print (AUC)"
      ],
      "execution_count": 3,
      "outputs": [
        {
          "output_type": "stream",
          "text": [
            "Confusion Matrix: \n",
            "[[5551  815]\n",
            " [ 301  544]]\n",
            "Area under the ROC: \n",
            "0.7578815527013888\n"
          ],
          "name": "stdout"
        }
      ]
    },
    {
      "cell_type": "code",
      "metadata": {
        "id": "scJde6nS_7el",
        "colab_type": "code",
        "colab": {}
      },
      "source": [
        ""
      ],
      "execution_count": 0,
      "outputs": []
    }
  ]
}